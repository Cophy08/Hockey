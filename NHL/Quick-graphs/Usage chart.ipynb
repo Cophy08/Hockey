{
 "cells": [
  {
   "cell_type": "markdown",
   "metadata": {},
   "source": [
    "# Create charts showing F QoC, D QoC, and more\n",
    "Quality of competition will be TOI/60-based. Also sizes bubbles by TOI/60 and colors by net offensive zone faceoffs on-ice for per 60. (This is customizable.)"
   ]
  },
  {
   "cell_type": "markdown",
   "metadata": {},
   "source": [
    "### Import"
   ]
  },
  {
   "cell_type": "code",
   "execution_count": 1,
   "metadata": {
    "collapsed": true
   },
   "outputs": [],
   "source": [
    "import PbPMethods2 as pm2\n",
    "import GetPbP\n",
    "from pylab import *\n",
    "%matplotlib inline\n",
    "import pandas as pd"
   ]
  },
  {
   "cell_type": "markdown",
   "metadata": {},
   "source": [
    "### Generate game-by-game if necessary\n",
    "It will take awhile. Only do this if you haven't done it before (ever) or if it's the current season and more games have been played since you last updated."
   ]
  },
  {
   "cell_type": "code",
   "execution_count": 2,
   "metadata": {
    "collapsed": false
   },
   "outputs": [],
   "source": [
    "#pm2.gen_gamebygame(2007)"
   ]
  },
  {
   "cell_type": "markdown",
   "metadata": {
    "collapsed": true
   },
   "source": [
    "### Set parameters"
   ]
  },
  {
   "cell_type": "code",
   "execution_count": 3,
   "metadata": {
    "collapsed": true
   },
   "outputs": [],
   "source": [
    "team = 'WSH' #please only choose one team\n",
    "seasons = {2014, 2015} #choose as many as you like\n",
    "seasons = list(seasons)\n",
    "seasons.sort()\n",
    "allowed_pos = {'F', 'D'} #Stick to F and/or D for simplicity\n",
    "min_toi_cutoff = 1000 #in minutes\n",
    "min_game = 20001 #change to 30111 for playoffs only; can also change to other values\n",
    "max_game = 21230 #change to 30417 to include playoffs; can also change to other values\n",
    "save_file = None #change to a path if you wish. Note: figure might get slightly cut off"
   ]
  },
  {
   "cell_type": "markdown",
   "metadata": {},
   "source": [
    "### Read in data"
   ]
  },
  {
   "cell_type": "code",
   "execution_count": 4,
   "metadata": {
    "collapsed": false
   },
   "outputs": [
    {
     "data": {
      "text/html": [
       "<div>\n",
       "<table border=\"1\" class=\"dataframe\">\n",
       "  <thead>\n",
       "    <tr style=\"text-align: right;\">\n",
       "      <th></th>\n",
       "      <th>Player</th>\n",
       "      <th>Team</th>\n",
       "      <th>Pos</th>\n",
       "      <th>Game</th>\n",
       "      <th>Season</th>\n",
       "      <th>Date</th>\n",
       "      <th>TOION(60s)</th>\n",
       "      <th>CFON</th>\n",
       "      <th>CAON</th>\n",
       "      <th>TOIOFF(60s)</th>\n",
       "      <th>...</th>\n",
       "      <th>NZS</th>\n",
       "      <th>OZS</th>\n",
       "      <th>iG</th>\n",
       "      <th>iCF</th>\n",
       "      <th>iA1</th>\n",
       "      <th>iA2</th>\n",
       "      <th>SACFON</th>\n",
       "      <th>SACAON</th>\n",
       "      <th>SACFOFF</th>\n",
       "      <th>SACAOFF</th>\n",
       "    </tr>\n",
       "  </thead>\n",
       "  <tbody>\n",
       "    <tr>\n",
       "      <th>0</th>\n",
       "      <td>Mike Santorelli</td>\n",
       "      <td>TOR</td>\n",
       "      <td>F</td>\n",
       "      <td>20001</td>\n",
       "      <td>2014</td>\n",
       "      <td>08-Oct-14</td>\n",
       "      <td>0.178056</td>\n",
       "      <td>10</td>\n",
       "      <td>9</td>\n",
       "      <td>0.634444</td>\n",
       "      <td>...</td>\n",
       "      <td>4</td>\n",
       "      <td>5</td>\n",
       "      <td>0</td>\n",
       "      <td>3</td>\n",
       "      <td>0</td>\n",
       "      <td>1</td>\n",
       "      <td>9.440</td>\n",
       "      <td>9.553</td>\n",
       "      <td>32.399</td>\n",
       "      <td>42.783</td>\n",
       "    </tr>\n",
       "    <tr>\n",
       "      <th>1</th>\n",
       "      <td>Stuart Percy</td>\n",
       "      <td>TOR</td>\n",
       "      <td>D</td>\n",
       "      <td>20001</td>\n",
       "      <td>2014</td>\n",
       "      <td>08-Oct-14</td>\n",
       "      <td>0.258333</td>\n",
       "      <td>14</td>\n",
       "      <td>15</td>\n",
       "      <td>0.554167</td>\n",
       "      <td>...</td>\n",
       "      <td>7</td>\n",
       "      <td>4</td>\n",
       "      <td>0</td>\n",
       "      <td>2</td>\n",
       "      <td>0</td>\n",
       "      <td>0</td>\n",
       "      <td>13.468</td>\n",
       "      <td>15.635</td>\n",
       "      <td>28.371</td>\n",
       "      <td>36.701</td>\n",
       "    </tr>\n",
       "    <tr>\n",
       "      <th>2</th>\n",
       "      <td>Roman Polak</td>\n",
       "      <td>TOR</td>\n",
       "      <td>D</td>\n",
       "      <td>20001</td>\n",
       "      <td>2014</td>\n",
       "      <td>08-Oct-14</td>\n",
       "      <td>0.253333</td>\n",
       "      <td>15</td>\n",
       "      <td>13</td>\n",
       "      <td>0.559167</td>\n",
       "      <td>...</td>\n",
       "      <td>8</td>\n",
       "      <td>5</td>\n",
       "      <td>0</td>\n",
       "      <td>2</td>\n",
       "      <td>0</td>\n",
       "      <td>0</td>\n",
       "      <td>14.463</td>\n",
       "      <td>13.423</td>\n",
       "      <td>27.376</td>\n",
       "      <td>38.913</td>\n",
       "    </tr>\n",
       "    <tr>\n",
       "      <th>3</th>\n",
       "      <td>Matt Frattin</td>\n",
       "      <td>TOR</td>\n",
       "      <td>F</td>\n",
       "      <td>20001</td>\n",
       "      <td>2014</td>\n",
       "      <td>08-Oct-14</td>\n",
       "      <td>0.153056</td>\n",
       "      <td>7</td>\n",
       "      <td>6</td>\n",
       "      <td>0.659444</td>\n",
       "      <td>...</td>\n",
       "      <td>4</td>\n",
       "      <td>2</td>\n",
       "      <td>0</td>\n",
       "      <td>1</td>\n",
       "      <td>0</td>\n",
       "      <td>0</td>\n",
       "      <td>6.654</td>\n",
       "      <td>6.262</td>\n",
       "      <td>35.185</td>\n",
       "      <td>46.074</td>\n",
       "    </tr>\n",
       "    <tr>\n",
       "      <th>4</th>\n",
       "      <td>Brandon Kozun</td>\n",
       "      <td>TOR</td>\n",
       "      <td>F</td>\n",
       "      <td>20001</td>\n",
       "      <td>2014</td>\n",
       "      <td>08-Oct-14</td>\n",
       "      <td>0.201389</td>\n",
       "      <td>10</td>\n",
       "      <td>14</td>\n",
       "      <td>0.611111</td>\n",
       "      <td>...</td>\n",
       "      <td>4</td>\n",
       "      <td>3</td>\n",
       "      <td>0</td>\n",
       "      <td>1</td>\n",
       "      <td>1</td>\n",
       "      <td>0</td>\n",
       "      <td>9.560</td>\n",
       "      <td>14.612</td>\n",
       "      <td>32.279</td>\n",
       "      <td>37.724</td>\n",
       "    </tr>\n",
       "  </tbody>\n",
       "</table>\n",
       "<p>5 rows × 35 columns</p>\n",
       "</div>"
      ],
      "text/plain": [
       "            Player Team Pos   Game  Season       Date  TOION(60s)  CFON  CAON  \\\n",
       "0  Mike Santorelli  TOR   F  20001    2014  08-Oct-14    0.178056    10     9   \n",
       "1     Stuart Percy  TOR   D  20001    2014  08-Oct-14    0.258333    14    15   \n",
       "2      Roman Polak  TOR   D  20001    2014  08-Oct-14    0.253333    15    13   \n",
       "3     Matt Frattin  TOR   F  20001    2014  08-Oct-14    0.153056     7     6   \n",
       "4    Brandon Kozun  TOR   F  20001    2014  08-Oct-14    0.201389    10    14   \n",
       "\n",
       "   TOIOFF(60s)   ...     NZS  OZS  iG  iCF  iA1  iA2  SACFON  SACAON  SACFOFF  \\\n",
       "0     0.634444   ...       4    5   0    3    0    1   9.440   9.553   32.399   \n",
       "1     0.554167   ...       7    4   0    2    0    0  13.468  15.635   28.371   \n",
       "2     0.559167   ...       8    5   0    2    0    0  14.463  13.423   27.376   \n",
       "3     0.659444   ...       4    2   0    1    0    0   6.654   6.262   35.185   \n",
       "4     0.611111   ...       4    3   0    1    1    0   9.560  14.612   32.279   \n",
       "\n",
       "   SACAOFF  \n",
       "0   42.783  \n",
       "1   36.701  \n",
       "2   38.913  \n",
       "3   46.074  \n",
       "4   37.724  \n",
       "\n",
       "[5 rows x 35 columns]"
      ]
     },
     "execution_count": 4,
     "metadata": {},
     "output_type": "execute_result"
    }
   ],
   "source": [
    "dfs = []\n",
    "for season in seasons:\n",
    "    dfs.append(pd.read_csv(pm2.get_gamebygame_data_filename(season)))\n",
    "dfs = pd.concat(dfs)\n",
    "dfs.head()"
   ]
  },
  {
   "cell_type": "markdown",
   "metadata": {},
   "source": [
    "Filter based on parameters above. You can add other filters pretty easily, though instead of using .apply() and lambda functions it may be easier to go with something like\n",
    "$$filtered = filtered[filtered[var] >= val]$$ where you set $var$ and $val$."
   ]
  },
  {
   "cell_type": "code",
   "execution_count": 5,
   "metadata": {
    "collapsed": false
   },
   "outputs": [
    {
     "name": "stdout",
     "output_type": "stream",
     "text": [
      "Columns available:\n",
      "Index(['Game', 'Season', 'TOION(60s)', 'CFON', 'CAON', 'TOIOFF(60s)', 'CFOFF',\n",
      "       'CAOFF', 'GFON', 'GAON', 'GFOFF', 'GAOFF', 'FComp', 'DComp', 'FTeam',\n",
      "       'DTeam', 'F Faced', 'D Faced', 'F With', 'D With', 'DZS', 'NZS', 'OZS',\n",
      "       'iG', 'iCF', 'iA1', 'iA2', 'SACFON', 'SACAON', 'SACFOFF', 'SACAOFF',\n",
      "       'FQoC', 'DQoC', 'FQoT', 'DQoT', 'OZS/60', 'TOI/60'],\n",
      "      dtype='object')\n"
     ]
    }
   ],
   "source": [
    "filtered = dfs[dfs['Team'] == team]\n",
    "\n",
    "filtered = filtered[filtered['Game'].apply(lambda x: min_game <= x <= max_game)]\n",
    "\n",
    "filtered = filtered[filtered['Pos'].apply(lambda x: x in allowed_pos)]\n",
    "\n",
    "grouped = filtered.groupby('Player').sum()\n",
    "grouped.reset_index()\n",
    "\n",
    "grouped = grouped[grouped['TOION(60s)'].apply(lambda x: x*60 >= min_toi_cutoff)]\n",
    "\n",
    "grouped['FQoC'] = grouped['FComp'] / grouped['F Faced']\n",
    "grouped['DQoC'] = grouped['DComp'] / grouped['D Faced']\n",
    "grouped['FQoT'] = grouped['FTeam'] / grouped['F With']\n",
    "grouped['DQoT'] = grouped['DTeam'] / grouped['D With']\n",
    "grouped['OZS/60'] = (grouped['OZS'] - grouped['DZS']) / grouped['TOION(60s)']\n",
    "grouped['TOI/60'] = 60 * grouped['TOION(60s)']/(grouped['TOION(60s)'] + grouped['TOIOFF(60s)'])\n",
    "print('Columns available:')\n",
    "print(grouped.columns)"
   ]
  },
  {
   "cell_type": "markdown",
   "metadata": {},
   "source": [
    "### Plot\n",
    "You can change the variables you want plotted here. Remember that we've summed--you can manipulate data in other ways in the cell above, either doing your own multiplications and divisions (e.g. grouped['TOI%'] = grouped['TOION(60s)']/(grouped['TOION(60s)'] + grouped['TOIOFF(60s)']) or aggregating another way than .sum() (e.g. .mean() or .max())."
   ]
  },
  {
   "cell_type": "code",
   "execution_count": 6,
   "metadata": {
    "collapsed": false
   },
   "outputs": [
    {
     "data": {
      "image/png": "[encoded data removed]",
      "text/plain": [
       "<matplotlib.figure.Figure at 0x104babfd0>"
      ]
     },
     "metadata": {},
     "output_type": "display_data"
    }
   ],
   "source": [
    "xvar = 'DQoC'\n",
    "yvar = 'FQoC'\n",
    "sizevar = 'TOI/60'\n",
    "colorvar = 'OZS/60'\n",
    "\n",
    "def size_function(x):\n",
    "    \"\"\"exaggerates differences because the difference between \n",
    "    areas 12 and 16 visually isn't easy to see\n",
    "    Redefine based on trial and error as you see fit\n",
    "    \"\"\"\n",
    "    if x <= 5:\n",
    "        return 0\n",
    "    return 5 * (x - 5) ** 2\n",
    "\n",
    "x = grouped[xvar]\n",
    "y = grouped[yvar]\n",
    "colors = grouped[colorvar]\n",
    "sizes = grouped[sizevar].apply(size_function)\n",
    "\n",
    "scatter(x, y, c=colors, s=sizes, cmap=plt.cm.bwr, alpha=0.5)\n",
    "cbar = colorbar(orientation='horizontal')\n",
    "cbar.set_label('Net OZ/60')\n",
    "xlabel(xvar)\n",
    "ylabel(yvar)\n",
    "title('Usage chart for ' + team + '\\n' + str(seasons))\n",
    "\n",
    "for p, xval, yval in zip(grouped.index, x, y):\n",
    "    annotate(p.split(' ', 1)[1], xy=(xval, yval), ha='center', va='center')\n",
    "\n",
    "grid(b=True, which='major', axis='y', linestyle=':')\n",
    "grid(b=True, which='major', axis='x', linestyle=':')\n",
    "\n",
    "#Create a legend for the sizing\n",
    "smallest = int(grouped[sizevar].min())\n",
    "avg = int(grouped[sizevar].mean())\n",
    "largest = int(grouped[sizevar].max())\n",
    "\n",
    "l1 = plt.scatter([], [], s=size_function(smallest), edgecolors='k', alpha=0.5)\n",
    "l2 = plt.scatter([], [], s=size_function(avg), edgecolors='k', alpha=0.5)\n",
    "l3 = plt.scatter([], [], s=size_function(largest), edgecolors='k', alpha=0.5)\n",
    "labels = [smallest, avg, largest]\n",
    "plt.legend([l1, l2, l3], labels, ncol=3, loc=4, labelspacing=1, borderpad=0.7, title='TOI/60', \n",
    "           scatterpoints=1, scatteryoffsets=[0.5], framealpha=0.5)\n",
    "\n",
    "gcf().tight_layout()\n",
    "if save_file is not None:\n",
    "    savefig(save_file)"
   ]
  }
 ],
 "metadata": {
  "kernelspec": {
   "display_name": "Python 3",
   "language": "python",
   "name": "python3"
  },
  "language_info": {
   "codemirror_mode": {
    "name": "ipython",
    "version": 3
   },
   "file_extension": ".py",
   "mimetype": "text/x-python",
   "name": "python",
   "nbconvert_exporter": "python",
   "pygments_lexer": "ipython3",
   "version": "3.4.3"
  }
 },
 "nbformat": 4,
 "nbformat_minor": 0
}
