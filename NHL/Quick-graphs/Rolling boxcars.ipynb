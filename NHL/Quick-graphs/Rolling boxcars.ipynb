{
 "cells": [
  {
   "cell_type": "markdown",
   "metadata": {},
   "source": [
    "# Create rolling G/A1/A2 graphs for individuals\n",
    "Game plan: read game by game stats, set parameters, calculate, plot. 5v5 only."
   ]
  },
  {
   "cell_type": "markdown",
   "metadata": {},
   "source": [
    "### Import"
   ]
  },
  {
   "cell_type": "code",
   "execution_count": 1,
   "metadata": {
    "collapsed": false
   },
   "outputs": [],
   "source": [
    "import PbPMethods2 as pm2\n",
    "from pylab import *\n",
    "%matplotlib inline\n",
    "import pandas as pd\n",
    "import GetPbP"
   ]
  },
  {
   "cell_type": "markdown",
   "metadata": {},
   "source": [
    "### Generate game-by-game data \n",
    "Do this only if you haven't already at least once. (It saves to file, so you don't need to run it every time you open this notebook.) Re-run to update current season data. (The '#' ensures code after it on the same line doesn't run.)\n",
    "<p>This will take a long time and give you some errors--known errors are <a href=\"https://github.com/muneebalam/Hockey/blob/master/NHL/Quick-graphs/gengamebygameerrors.txt\">listed here</a>."
   ]
  },
  {
   "cell_type": "code",
   "execution_count": 2,
   "metadata": {
    "collapsed": true
   },
   "outputs": [],
   "source": [
    "seasons_to_update = [2007, 2008, 2009, 2010, 2011, 2012, 2013, 2014, 2015]\n",
    "#pm2.gen_gamebygame(season)"
   ]
  },
  {
   "cell_type": "markdown",
   "metadata": {
    "collapsed": false
   },
   "source": [
    "### Read in game by game data\n",
    "Do this only once, each time you open this notebook, to load data into memory."
   ]
  },
  {
   "cell_type": "code",
   "execution_count": 3,
   "metadata": {
    "collapsed": false
   },
   "outputs": [
    {
     "data": {
      "text/html": [
       "<div>\n",
       "<table border=\"1\" class=\"dataframe\">\n",
       "  <thead>\n",
       "    <tr style=\"text-align: right;\">\n",
       "      <th></th>\n",
       "      <th>Player</th>\n",
       "      <th>Team</th>\n",
       "      <th>Pos</th>\n",
       "      <th>Game</th>\n",
       "      <th>Season</th>\n",
       "      <th>Date</th>\n",
       "      <th>TOION(60s)</th>\n",
       "      <th>CFON</th>\n",
       "      <th>CAON</th>\n",
       "      <th>TOIOFF(60s)</th>\n",
       "      <th>...</th>\n",
       "      <th>NZS</th>\n",
       "      <th>OZS</th>\n",
       "      <th>iG</th>\n",
       "      <th>iCF</th>\n",
       "      <th>iA1</th>\n",
       "      <th>iA2</th>\n",
       "      <th>SACFON</th>\n",
       "      <th>SACAON</th>\n",
       "      <th>SACFOFF</th>\n",
       "      <th>SACAOFF</th>\n",
       "    </tr>\n",
       "  </thead>\n",
       "  <tbody>\n",
       "    <tr>\n",
       "      <th>0</th>\n",
       "      <td>Patrick O'Sullivan</td>\n",
       "      <td>L.A</td>\n",
       "      <td>F</td>\n",
       "      <td>20001</td>\n",
       "      <td>2007</td>\n",
       "      <td>29-Sep-07</td>\n",
       "      <td>0.110556</td>\n",
       "      <td>3</td>\n",
       "      <td>4</td>\n",
       "      <td>0.457500</td>\n",
       "      <td>...</td>\n",
       "      <td>2</td>\n",
       "      <td>2</td>\n",
       "      <td>0</td>\n",
       "      <td>1</td>\n",
       "      <td>0</td>\n",
       "      <td>0</td>\n",
       "      <td>3.324</td>\n",
       "      <td>3.554</td>\n",
       "      <td>8.560</td>\n",
       "      <td>22.067</td>\n",
       "    </tr>\n",
       "    <tr>\n",
       "      <th>1</th>\n",
       "      <td>Tom Preissing</td>\n",
       "      <td>L.A</td>\n",
       "      <td>D</td>\n",
       "      <td>20001</td>\n",
       "      <td>2007</td>\n",
       "      <td>29-Sep-07</td>\n",
       "      <td>0.154444</td>\n",
       "      <td>5</td>\n",
       "      <td>7</td>\n",
       "      <td>0.413611</td>\n",
       "      <td>...</td>\n",
       "      <td>4</td>\n",
       "      <td>2</td>\n",
       "      <td>0</td>\n",
       "      <td>1</td>\n",
       "      <td>0</td>\n",
       "      <td>0</td>\n",
       "      <td>5.430</td>\n",
       "      <td>6.509</td>\n",
       "      <td>6.454</td>\n",
       "      <td>19.112</td>\n",
       "    </tr>\n",
       "    <tr>\n",
       "      <th>2</th>\n",
       "      <td>Lubomir Visnovsky</td>\n",
       "      <td>L.A</td>\n",
       "      <td>D</td>\n",
       "      <td>20001</td>\n",
       "      <td>2007</td>\n",
       "      <td>29-Sep-07</td>\n",
       "      <td>0.185833</td>\n",
       "      <td>2</td>\n",
       "      <td>9</td>\n",
       "      <td>0.382222</td>\n",
       "      <td>...</td>\n",
       "      <td>5</td>\n",
       "      <td>3</td>\n",
       "      <td>0</td>\n",
       "      <td>0</td>\n",
       "      <td>0</td>\n",
       "      <td>0</td>\n",
       "      <td>2.077</td>\n",
       "      <td>8.354</td>\n",
       "      <td>9.807</td>\n",
       "      <td>17.267</td>\n",
       "    </tr>\n",
       "    <tr>\n",
       "      <th>3</th>\n",
       "      <td>Raitis Ivanans</td>\n",
       "      <td>L.A</td>\n",
       "      <td>F</td>\n",
       "      <td>20001</td>\n",
       "      <td>2007</td>\n",
       "      <td>29-Sep-07</td>\n",
       "      <td>0.059722</td>\n",
       "      <td>1</td>\n",
       "      <td>2</td>\n",
       "      <td>0.508333</td>\n",
       "      <td>...</td>\n",
       "      <td>2</td>\n",
       "      <td>0</td>\n",
       "      <td>0</td>\n",
       "      <td>0</td>\n",
       "      <td>0</td>\n",
       "      <td>0</td>\n",
       "      <td>1.120</td>\n",
       "      <td>1.826</td>\n",
       "      <td>10.764</td>\n",
       "      <td>23.795</td>\n",
       "    </tr>\n",
       "    <tr>\n",
       "      <th>4</th>\n",
       "      <td>Dustin Brown</td>\n",
       "      <td>L.A</td>\n",
       "      <td>F</td>\n",
       "      <td>20001</td>\n",
       "      <td>2007</td>\n",
       "      <td>29-Sep-07</td>\n",
       "      <td>0.163889</td>\n",
       "      <td>4</td>\n",
       "      <td>9</td>\n",
       "      <td>0.404167</td>\n",
       "      <td>...</td>\n",
       "      <td>3</td>\n",
       "      <td>2</td>\n",
       "      <td>0</td>\n",
       "      <td>1</td>\n",
       "      <td>0</td>\n",
       "      <td>0</td>\n",
       "      <td>4.228</td>\n",
       "      <td>8.040</td>\n",
       "      <td>7.656</td>\n",
       "      <td>17.581</td>\n",
       "    </tr>\n",
       "  </tbody>\n",
       "</table>\n",
       "<p>5 rows × 35 columns</p>\n",
       "</div>"
      ],
      "text/plain": [
       "               Player Team Pos   Game  Season       Date  TOION(60s)  CFON  \\\n",
       "0  Patrick O'Sullivan  L.A   F  20001    2007  29-Sep-07    0.110556     3   \n",
       "1       Tom Preissing  L.A   D  20001    2007  29-Sep-07    0.154444     5   \n",
       "2   Lubomir Visnovsky  L.A   D  20001    2007  29-Sep-07    0.185833     2   \n",
       "3      Raitis Ivanans  L.A   F  20001    2007  29-Sep-07    0.059722     1   \n",
       "4        Dustin Brown  L.A   F  20001    2007  29-Sep-07    0.163889     4   \n",
       "\n",
       "   CAON  TOIOFF(60s)   ...     NZS  OZS  iG  iCF  iA1  iA2  SACFON  SACAON  \\\n",
       "0     4     0.457500   ...       2    2   0    1    0    0   3.324   3.554   \n",
       "1     7     0.413611   ...       4    2   0    1    0    0   5.430   6.509   \n",
       "2     9     0.382222   ...       5    3   0    0    0    0   2.077   8.354   \n",
       "3     2     0.508333   ...       2    0   0    0    0    0   1.120   1.826   \n",
       "4     9     0.404167   ...       3    2   0    1    0    0   4.228   8.040   \n",
       "\n",
       "   SACFOFF  SACAOFF  \n",
       "0    8.560   22.067  \n",
       "1    6.454   19.112  \n",
       "2    9.807   17.267  \n",
       "3   10.764   23.795  \n",
       "4    7.656   17.581  \n",
       "\n",
       "[5 rows x 35 columns]"
      ]
     },
     "execution_count": 3,
     "metadata": {},
     "output_type": "execute_result"
    }
   ],
   "source": [
    "dfs = []\n",
    "for season in range(2007, 2016):\n",
    "    dfs.append(pd.read_csv(pm2.get_gamebygame_data_filename(season)))\n",
    "dfs = pd.concat(dfs)\n",
    "dfs.head()"
   ]
  },
  {
   "cell_type": "markdown",
   "metadata": {},
   "source": [
    "### Select the player, teams, seasons etc you want.\n",
    "If you want to generate more graphs start re-running code from here."
   ]
  },
  {
   "cell_type": "code",
   "execution_count": 4,
   "metadata": {
    "collapsed": false
   },
   "outputs": [],
   "source": [
    "player = 'Sidney Crosby'\n",
    "start_date = '2007-09-15' #use mid-Sept to be safe because some seasons have Euro premiere games\n",
    "end_date = '2016-06-21' #Format: yyyy-mm-dd\n",
    "\n",
    "teams = 'all' #or, e.g. {'WSH'}, or {'WSH', 'T.B'}\n",
    "roll_len = 82 #in games\n",
    "\n",
    "include_playoffs = True #can also set to False\n",
    "save_file = None #set to something to save figure\n",
    "gapless = True #Will avoid long offseason flatlines (no games = no change in CF%)\n",
    "ratestats = True #will divide by TOI if True\n",
    "    \n",
    "if teams == 'all':\n",
    "    teams = GetPbP.TEAMS"
   ]
  },
  {
   "cell_type": "markdown",
   "metadata": {},
   "source": [
    "### Filter based on above parameters\n",
    "Note how I select a date range here. This can be very useful (for example, if you want to edit the usage charts notebook code to take a date range instead of specific seasons)."
   ]
  },
  {
   "cell_type": "code",
   "execution_count": 5,
   "metadata": {
    "collapsed": false
   },
   "outputs": [],
   "source": [
    "df = dfs[dfs.Player == player]\n",
    "df = df[df.Team.apply(lambda x: x in teams)]\n",
    "\n",
    "df['Date2'] = pd.to_datetime(df['Date'], infer_datetime_format=True)\n",
    "df.sort_values('Date2', inplace=True)\n",
    "df.set_index('Date2', inplace=True)\n",
    "df = df.ix[start_date : end_date]\n",
    "\n",
    "if gapless:\n",
    "    df.reset_index(inplace=True)\n",
    "\n",
    "if not include_playoffs:\n",
    "    df = df[df.Game <= 21230]"
   ]
  },
  {
   "cell_type": "markdown",
   "metadata": {
    "collapsed": false
   },
   "source": [
    "### Calculate"
   ]
  },
  {
   "cell_type": "code",
   "execution_count": 6,
   "metadata": {
    "collapsed": false
   },
   "outputs": [],
   "source": [
    "cols_to_use = ['iG', 'iA1', 'iA2', 'GFON']\n",
    "base = '{0:d}-game '.format(roll_len)\n",
    "\n",
    "df[base + 'TOI'] = pd.rolling_sum(df['TOION(60s)'], roll_len, 0)\n",
    "if ratestats:\n",
    "    divisor = df[base + 'TOI']\n",
    "else:\n",
    "    divisor = 1    \n",
    "\n",
    "df[base + 'G'] = pd.rolling_sum(df['iG'], roll_len, 0)/divisor\n",
    "df[base + 'A1'] = pd.rolling_sum(df['iA1'], roll_len, 0)/divisor\n",
    "df[base + 'A2'] = pd.rolling_sum(df['iA2'], roll_len, 0)/divisor\n",
    "df[base + 'GFON'] = pd.rolling_sum(df['GFON'], roll_len, 0)/divisor"
   ]
  },
  {
   "cell_type": "code",
   "execution_count": 7,
   "metadata": {
    "collapsed": true
   },
   "outputs": [],
   "source": [
    "def format_timestamp_as_mdyy(ts):\n",
    "    st = str(ts).split(' ')[0]\n",
    "    y, m, d = st.split('-')\n",
    "    m = int(m)\n",
    "    d = int(d)\n",
    "    return '{0:d}/{1:d}\\n{2:s}'.format(m, d, y)"
   ]
  },
  {
   "cell_type": "code",
   "execution_count": 8,
   "metadata": {
    "collapsed": false
   },
   "outputs": [],
   "source": [
    "next_year_indices = [0]\n",
    "start_date2 = pd.Timestamp(start_date)\n",
    "next_year_dates = [format_timestamp_as_mdyy(start_date2)]\n",
    "years_elapsed = 0\n",
    "oneyr = pd.Timedelta('365 days')\n",
    "for i in range(1, len(df)):\n",
    "    if gapless:\n",
    "        current_date = df['Date2'].iloc[i]\n",
    "    else:\n",
    "        current_date = df.index[i]\n",
    "    if current_date - start_date2 >= (years_elapsed + 1) * oneyr:\n",
    "        next_year_indices.append(i)\n",
    "        next_year_dates.append(format_timestamp_as_mdyy(current_date))\n",
    "        years_elapsed += 1"
   ]
  },
  {
   "cell_type": "markdown",
   "metadata": {
    "collapsed": false
   },
   "source": [
    "### Plot"
   ]
  },
  {
   "cell_type": "code",
   "execution_count": 9,
   "metadata": {
    "collapsed": false
   },
   "outputs": [
    {
     "data": {
      "image/png": "[encoded data removed]",
      "text/plain": [
       "<matplotlib.figure.Figure at 0x104b6c208>"
      ]
     },
     "metadata": {},
     "output_type": "display_data"
    }
   ],
   "source": [
    "fill_between(df.index, 0, df[base + 'G'], label='Goals', color='k')\n",
    "fill_between(df.index, df[base + 'G'], df[base + 'G'] + df[base + 'A1'], \n",
    "             label='Primary\\nassists', color='b')\n",
    "fill_between(df.index, df[base + 'G'] + df[base + 'A1'], \n",
    "             df[base + 'G'] + df[base + 'A1'] + df[base + 'A2'], \n",
    "             label='Secondary\\nassists', color='dodgerblue')\n",
    "fill_between(df.index, df[base + 'G'] + df[base + 'A1'] + df[base + 'A2'], \n",
    "             df[base + 'GFON'], \n",
    "             label='GFON', color='c')\n",
    "\n",
    "if gapless:\n",
    "    xlim(0, len(df))\n",
    "    xticks(next_year_indices, next_year_dates, ha='left', fontsize=8)\n",
    "else:\n",
    "    xlim(start_date, end_date)\n",
    "titletext = '{0:d}-game rolling boxcars for {1:s}'.format(roll_len, player)\n",
    "titletext += '\\n{0:s} to {1:s}'.format(start_date, end_date)\n",
    "title(titletext)\n",
    "xlabel('Start of {0:d} games'.format(roll_len))\n",
    "if ratestats:\n",
    "    ylabel('Per 60 minutes')\n",
    "\n",
    "legend(loc=9, framealpha=0.5, ncol=4, fontsize=10)\n",
    "\n",
    "if save_file is not None:\n",
    "    savefig(save_file)"
   ]
  }
 ],
 "metadata": {
  "kernelspec": {
   "display_name": "Python 3",
   "language": "python",
   "name": "python3"
  },
  "language_info": {
   "codemirror_mode": {
    "name": "ipython",
    "version": 3
   },
   "file_extension": ".py",
   "mimetype": "text/x-python",
   "name": "python",
   "nbconvert_exporter": "python",
   "pygments_lexer": "ipython3",
   "version": "3.4.3"
  }
 },
 "nbformat": 4,
 "nbformat_minor": 0
}
