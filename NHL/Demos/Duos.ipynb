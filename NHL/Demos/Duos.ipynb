{
 "cells": [
  {
   "cell_type": "markdown",
   "metadata": {},
   "source": [
    "# Get TOI for pairs of players in a season"
   ]
  },
  {
   "cell_type": "markdown",
   "metadata": {},
   "source": [
    "### Import"
   ]
  },
  {
   "cell_type": "code",
   "execution_count": 1,
   "metadata": {
    "collapsed": true
   },
   "outputs": [],
   "source": [
    "import PbPMethods2 as pm2\n",
    "import GetPbP"
   ]
  },
  {
   "cell_type": "markdown",
   "metadata": {},
   "source": [
    "### Read in our list of games"
   ]
  },
  {
   "cell_type": "code",
   "execution_count": 2,
   "metadata": {
    "collapsed": true
   },
   "outputs": [],
   "source": [
    "filename = '/Users/muneebalam/Desktop/ipython/NHL/Game IDs.csv'\n",
    "r = open(filename, 'r')\n",
    "games = set([int(x) for x in r.read().strip().split('\\n')[1:]])\n",
    "r.close()"
   ]
  },
  {
   "cell_type": "markdown",
   "metadata": {},
   "source": [
    "### Iterate through games\n",
    "If game is in our set of games from above, we add data to duo_toi."
   ]
  },
  {
   "cell_type": "code",
   "execution_count": 3,
   "metadata": {
    "collapsed": false
   },
   "outputs": [
    {
     "name": "stdout",
     "output_type": "stream",
     "text": [
      "Done with ANA\n",
      "Done with FLA\n",
      "Done with BUF\n",
      "Done with CHI\n",
      "Done with EDM\n",
      "Done with S.J\n",
      "Done with VAN\n",
      "Done with CBJ\n",
      "Done with WPG\n",
      "Done with NYR\n",
      "Done with BOS\n",
      "Done with WSH\n",
      "Done with L.A\n",
      "Done with PHI\n",
      "Done with DAL\n",
      "Done with DET\n",
      "Done with CGY\n",
      "Done with MTL\n",
      "Done with TOR\n",
      "Done with CAR\n",
      "Done with COL\n",
      "Done with PIT\n",
      "Done with N.J\n",
      "Done with NSH\n",
      "Done with T.B\n",
      "Done with ARI\n",
      "Done with NYI\n",
      "Done with OTT\n",
      "Done with STL\n",
      "Done with MIN\n"
     ]
    }
   ],
   "source": [
    "duo_toi = {}\n",
    "for team in pm2.get_teams(2015):\n",
    "    for line in pm2.read_team_toi(team, 2015):\n",
    "        if pm2.get_game(line) in games:\n",
    "            ps = pm2.get_home_players(line)\n",
    "            for p1 in ps:\n",
    "                if p1 not in duo_toi:\n",
    "                    duo_toi[p1] = {}\n",
    "                for p2 in ps:\n",
    "                    if p2 not in duo_toi[p1]:\n",
    "                        duo_toi[p1][p2] = 0\n",
    "                    duo_toi[p1][p2] += 1\n",
    "    print('Done with', team)"
   ]
  },
  {
   "cell_type": "markdown",
   "metadata": {},
   "source": [
    "### Write to file"
   ]
  },
  {
   "cell_type": "code",
   "execution_count": 4,
   "metadata": {
    "collapsed": true
   },
   "outputs": [],
   "source": [
    "w = open('/Users/muneebalam/Desktop/ipython/NHL/duo toi.csv', 'w')\n",
    "w.write('P1,P2,TOI(s)')\n",
    "for p1 in duo_toi:\n",
    "    for p2 in duo_toi[p1]:\n",
    "        w.write('\\n{0:s},{1:s},{2:d}'.format(p1, p2, duo_toi[p1][p2]))\n",
    "w.close()"
   ]
  }
 ],
 "metadata": {
  "kernelspec": {
   "display_name": "Python 3",
   "language": "python",
   "name": "python3"
  },
  "language_info": {
   "codemirror_mode": {
    "name": "ipython",
    "version": 3
   },
   "file_extension": ".py",
   "mimetype": "text/x-python",
   "name": "python",
   "nbconvert_exporter": "python",
   "pygments_lexer": "ipython3",
   "version": "3.4.3"
  }
 },
 "nbformat": 4,
 "nbformat_minor": 0
}
